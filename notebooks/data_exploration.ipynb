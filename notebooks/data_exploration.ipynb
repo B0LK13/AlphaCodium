{
 "cells": [
  {
   "cell_type": "code",
   "execution_count": null,
   "id": "5633b737-f780-4bad-829b-1bc933a0474c",
   "metadata": {},
   "outputs": [],
   "source": [
    "!pip install matplotlib\n",
    "!pip install jupysql\n",
    "!pip install pandas-profiling\n",
    "!pip install ipywidgets"
   ]
  },
  {
   "cell_type": "code",
   "execution_count": null,
   "id": "d18bdb58-4d75-4190-9639-09403d6cc0e5",
   "metadata": {},
   "outputs": [],
   "source": [
    "%load_ext sql"
   ]
  },
  {
   "cell_type": "code",
   "execution_count": null,
   "id": "f31035f4-7e1d-4004-85b9-637f8816c1f7",
   "metadata": {},
   "outputs": [],
   "source": [
    "import sys\n",
    "from importlib import reload\n",
    "from alpha_codium.code_contests.data import provider\n",
    "sys.path.append (\"../alpha_codium\")\n",
    "reload(provider)"
   ]
  },
  {
   "cell_type": "code",
   "execution_count": null,
   "id": "29fc8504-72e4-4172-ad01-c215dfd888ad",
   "metadata": {},
   "outputs": [],
   "source": [
    "import duckdb\n",
    "from alpha_codium.code_contests.data.provider import CodeContestDataProvider\n",
    "cc = CodeContestDataProvider()\n",
    "cc.translate_columns()"
   ]
  },
  {
   "cell_type": "code",
   "execution_count": null,
   "id": "bbdb2e02-2f63-44cd-946e-a50f07d1a631",
   "metadata": {},
   "outputs": [],
   "source": [
    "cc.query(\"SHOW ALL TABLES\")"
   ]
  },
  {
   "cell_type": "code",
   "execution_count": null,
   "id": "b735c1b2-6958-400f-bc23-b35a59747662",
   "metadata": {},
   "outputs": [],
   "source": [
    "import pandas_profiling\n",
    "from pandas_profiling import ProfileReport"
   ]
  },
  {
   "cell_type": "code",
   "execution_count": null,
   "id": "715b2249-b323-40ca-b932-3af7ca3aaaff",
   "metadata": {},
   "outputs": [],
   "source": [
    "train_sample = cc.sample(\"train\", 0.1).to_pandas()\n",
    "valid = cc.dataset['valid'].to_pandas()\n",
    "test = cc.dataset['test'].to_pandas()\n",
    "\n"
   ]
  },
  {
   "cell_type": "code",
   "execution_count": null,
   "id": "ed5b9845-6b8b-4e3d-a45d-5aa5bde637c4",
   "metadata": {},
   "outputs": [],
   "source": [
    "import json \n",
    "\n",
    "sample_problem = train_sample.iloc[0].to_json()\n",
    "pretty = json.dumps(json.loads(sample_problem), indent=4)\n",
    "print(pretty)"
   ]
  },
  {
   "cell_type": "code",
   "execution_count": null,
   "id": "7940d885-6ec2-4dcb-81c1-e5542840be77",
   "metadata": {},
   "outputs": [],
   "source": [
    "train_profile = ProfileReport(train_sample)\n",
    "valid_profile = ProfileReport(valid)\n",
    "test_profile = ProfileReport(test)\n"
   ]
  },
  {
   "cell_type": "code",
   "execution_count": null,
   "id": "93723a12-2031-4dec-a00b-a8ef185e89e5",
   "metadata": {},
   "outputs": [],
   "source": [
    "train_profile"
   ]
  }
 ],
 "metadata": {
  "kernelspec": {
   "display_name": "Python 3 (ipykernel)",
   "language": "python",
   "name": "python3"
  },
  "language_info": {
   "codemirror_mode": {
    "name": "ipython",
    "version": 3
   },
   "file_extension": ".py",
   "mimetype": "text/x-python",
   "name": "python",
   "nbconvert_exporter": "python",
   "pygments_lexer": "ipython3",
   "version": "3.8.10"
  }
 },
 "nbformat": 4,
 "nbformat_minor": 5
}
